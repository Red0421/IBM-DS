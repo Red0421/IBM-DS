{
 "cells": [
  {
   "cell_type": "markdown",
   "id": "2c7260e5",
   "metadata": {},
   "source": [
    "# Data Science Tools and Ecosystem"
   ]
  },
  {
   "cell_type": "markdown",
   "id": "7c6a4908",
   "metadata": {},
   "source": [
    "In this notebook, Data Science Tools and Ecosystem are summerized\n"
   ]
  },
  {
   "cell_type": "markdown",
   "id": "7b76f326",
   "metadata": {},
   "source": [
    "**Objectives:**\n",
    "- List popular languages for Data Science \n",
    "- List commonly used libraries used by Data Scientists\n",
    "- Ways of evaluating arithemtic operation in Jupyter\n",
    "- Learn about styling and creating tables "
   ]
  },
  {
   "cell_type": "markdown",
   "id": "e11b9266",
   "metadata": {},
   "source": [
    "Some of the popular languages that Data Scientists use are:\n",
    "1. Python\n",
    "2. SQL\n",
    "3. R"
   ]
  },
  {
   "cell_type": "markdown",
   "id": "674f290e",
   "metadata": {},
   "source": [
    "Some of the commonly used libraries used by Data Scientists include:\n",
    "1. Pandas\n",
    "2. NumPy\n",
    "3. Matplotlib"
   ]
  },
  {
   "cell_type": "markdown",
   "id": "5b87185a",
   "metadata": {},
   "source": [
    "| Data Science Tools  |\n",
    "|---------------------|\n",
    "| Jupyter Notebook    |\n",
    "| RStudio             |\n",
    "| Apache Spark        |\n"
   ]
  },
  {
   "cell_type": "markdown",
   "id": "5efe448f",
   "metadata": {},
   "source": [
    "### Below are a few examples of evaluating arithemetic expressions in Python"
   ]
  },
  {
   "cell_type": "code",
   "execution_count": 2,
   "id": "d329c63f",
   "metadata": {},
   "outputs": [
    {
     "data": {
      "text/plain": [
       "17"
      ]
     },
     "execution_count": 2,
     "metadata": {},
     "output_type": "execute_result"
    }
   ],
   "source": [
    "##This a simple arithmetic expression to mutiply then add integers\n",
    "(3*4)+5"
   ]
  },
  {
   "cell_type": "code",
   "execution_count": 3,
   "id": "faa80a13",
   "metadata": {},
   "outputs": [
    {
     "data": {
      "text/plain": [
       "3.3333333333333335"
      ]
     },
     "execution_count": 3,
     "metadata": {},
     "output_type": "execute_result"
    }
   ],
   "source": [
    "##This will convert 200 minutes to hours by diving by 60.\n",
    "200/60"
   ]
  },
  {
   "cell_type": "markdown",
   "id": "f038d01f",
   "metadata": {},
   "source": [
    "## Author\n",
    "Rediet Kebede\n"
   ]
  },
  {
   "cell_type": "code",
   "execution_count": null,
   "id": "375534ca",
   "metadata": {},
   "outputs": [],
   "source": []
  }
 ],
 "metadata": {
  "kernelspec": {
   "display_name": "Python 3 (ipykernel)",
   "language": "python",
   "name": "python3"
  },
  "language_info": {
   "codemirror_mode": {
    "name": "ipython",
    "version": 3
   },
   "file_extension": ".py",
   "mimetype": "text/x-python",
   "name": "python",
   "nbconvert_exporter": "python",
   "pygments_lexer": "ipython3",
   "version": "3.9.13"
  }
 },
 "nbformat": 4,
 "nbformat_minor": 5
}
